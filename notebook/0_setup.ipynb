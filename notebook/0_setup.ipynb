{
 "cells": [
  {
   "cell_type": "markdown",
   "metadata": {},
   "source": [
    "# 0. Setup OpenSim Project"
   ]
  },
  {
   "cell_type": "code",
   "execution_count": 14,
   "metadata": {},
   "outputs": [],
   "source": [
    "import os\n",
    "import opensim as osim"
   ]
  },
  {
   "cell_type": "code",
   "execution_count": 15,
   "metadata": {},
   "outputs": [],
   "source": [
    "# 1. Choose an empty directory (`root` directory of the project)\n",
    "root = '/home/romain/Downloads/opensim/'\n",
    "# 2. Complete the following list with the pseudo of your participant(s)\n",
    "participants = ['SylGaud']"
   ]
  },
  {
   "cell_type": "code",
   "execution_count": 16,
   "metadata": {},
   "outputs": [],
   "source": [
    "# create folders\n",
    "for ifolder in ['inputs', 'metadata', 'outputs']:\n",
    "    for iparticipant in participants:\n",
    "        if ifolder == 'outputs':\n",
    "            for i in ['0_trc', '1_sto', '2_inverse_kinematic', '3_inverse_dynamic', '4_static_optimization', '5_muscle_analysis']:\n",
    "                os.makedirs(os.path.join(root, ifolder, iparticipant, i), exist_ok=True)\n",
    "        else:\n",
    "            os.makedirs(os.path.join(root, ifolder, iparticipant), exist_ok=True)"
   ]
  },
  {
   "cell_type": "code",
   "execution_count": null,
   "metadata": {},
   "outputs": [],
   "source": [
    "# 3. Put your c3d files in the `inputs` directory of each of your participants\n",
    "# 4. Copy your generic model in the `metadata/generic` directory\n",
    "# 5. Copy your conf files in the `metadata/generic` directory"
   ]
  },
  {
   "cell_type": "code",
   "execution_count": 31,
   "metadata": {},
   "outputs": [],
   "source": [
    "# convert c3d to trc (markers) and sto (forces)\n",
    "for iparticipant in participants:\n",
    "    participant_inputs = os.path.join(root, 'inputs', iparticipant)\n",
    "    files = os.listdir(participant_inputs)\n",
    "    for ifile in files:\n",
    "        adapter = osim.C3DFileAdapter()\n",
    "        tables = adapter.read(os.path.join(participant_inputs, ifile))\n",
    "        \n",
    "        # trc (markers)\n",
    "        markers = tables['markers']\n",
    "        trc_filename = os.path.join(root, 'outputs', iparticipant, '0_trc', ifile).replace('c3d', 'trc')\n",
    "        trcAdapter = osim.TRCFileAdapter()\n",
    "        trcAdapter.write(markers, trc_filename)\n",
    "        \n",
    "        # sto (forces)\n",
    "        forces = tables['forces']\n",
    "        forcesFlat = forces.flatten()\n",
    "        sto_filename = os.path.join(root, 'outputs', iparticipant, '1_sto', ifile).replace('c3d', 'sto')\n",
    "        stoAdapter = osim.STOFileAdapter()\n",
    "        stoAdapter.write(forcesFlat, sto_filename)"
   ]
  }
 ],
 "metadata": {
  "kernelspec": {
   "display_name": "Python [conda env:opensim]",
   "language": "python",
   "name": "conda-env-opensim-py"
  },
  "language_info": {
   "codemirror_mode": {
    "name": "ipython",
    "version": 3
   },
   "file_extension": ".py",
   "mimetype": "text/x-python",
   "name": "python",
   "nbconvert_exporter": "python",
   "pygments_lexer": "ipython3",
   "version": "3.6.3"
  }
 },
 "nbformat": 4,
 "nbformat_minor": 2
}
