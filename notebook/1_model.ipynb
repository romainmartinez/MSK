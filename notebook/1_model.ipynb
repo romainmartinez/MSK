{
 "cells": [
  {
   "cell_type": "markdown",
   "metadata": {},
   "source": [
    "# 1. Setup Model"
   ]
  },
  {
   "cell_type": "code",
   "execution_count": 1,
   "metadata": {},
   "outputs": [],
   "source": [
    "import opensim as osim\n",
    "import math\n",
    "import os"
   ]
  },
  {
   "cell_type": "code",
   "execution_count": 2,
   "metadata": {},
   "outputs": [],
   "source": [
    "# root directory of the opensim project\n",
    "root = '/home/romain/Downloads/opensim/'\n",
    "\n",
    "# model file name\n",
    "model_name = 'model.osim'"
   ]
  },
  {
   "cell_type": "code",
   "execution_count": 3,
   "metadata": {},
   "outputs": [],
   "source": [
    "model = {\n",
    "    'name': model_name,\n",
    "    'path': os.path.join(root, 'metadata', 'generic', model_name),\n",
    "    'output': os.path.join(root, 'metadata', 'generic', 'updated-{}'.format(model_name))\n",
    "}"
   ]
  },
  {
   "cell_type": "code",
   "execution_count": 4,
   "metadata": {},
   "outputs": [],
   "source": [
    "# get model and clone\n",
    "original_model = osim.Model(model['path'])\n",
    "new_model = original_model.clone()\n",
    "new_model.setName('updated-{}'.format(original_model.getName()))"
   ]
  },
  {
   "cell_type": "markdown",
   "metadata": {},
   "source": [
    "## Rotate axis (Z vertical)"
   ]
  },
  {
   "cell_type": "code",
   "execution_count": 5,
   "metadata": {},
   "outputs": [
    {
     "data": {
      "text/plain": [
       "True"
      ]
     },
     "execution_count": 5,
     "metadata": {},
     "output_type": "execute_result"
    }
   ],
   "source": [
    "# get model gravity\n",
    "gravity = new_model.getGravity()\n",
    "original_gravity = [gravity.get(i) for i in range(gravity.size())]\n",
    "\n",
    "# set new gravity orientation (vertical = z axis)\n",
    "new_order = [0, 2, 1]\n",
    "new_gravity = [original_gravity[idx] for idx in new_order]\n",
    "\n",
    "new_model.setGravity(osim.Vec3(*new_gravity))\n",
    "\n",
    "# set new group pelvis orientation\n",
    "# TEMPORARY HACK: change `orientation` of the `ground_pelvis` joint from 0 0 0 to -1.5707963267948966 0 -1.5707963267948966"
   ]
  },
  {
   "cell_type": "markdown",
   "metadata": {},
   "source": [
    "## Strengthen model"
   ]
  },
  {
   "cell_type": "code",
   "execution_count": 6,
   "metadata": {},
   "outputs": [
    {
     "data": {
      "text/plain": [
       "True"
      ]
     },
     "execution_count": 6,
     "metadata": {},
     "output_type": "execute_result"
    }
   ],
   "source": [
    "scale_factor = 3\n",
    "\n",
    "for i in range(new_model.getMuscles().getSize()):\n",
    "    current_muscle = new_model.getMuscles().get(i)\n",
    "    current_muscle.setMaxIsometricForce(current_muscle.getMaxIsometricForce()\n",
    "                    * scale_factor)\n",
    "new_model.printToXML(model['output'])"
   ]
  }
 ],
 "metadata": {
  "kernelspec": {
   "display_name": "Python [conda env:opensim]",
   "language": "python",
   "name": "conda-env-opensim-py"
  },
  "language_info": {
   "codemirror_mode": {
    "name": "ipython",
    "version": 3
   },
   "file_extension": ".py",
   "mimetype": "text/x-python",
   "name": "python",
   "nbconvert_exporter": "python",
   "pygments_lexer": "ipython3",
   "version": "3.6.3"
  }
 },
 "nbformat": 4,
 "nbformat_minor": 2
}
