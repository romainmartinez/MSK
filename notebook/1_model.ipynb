{
 "cells": [
  {
   "cell_type": "markdown",
   "metadata": {},
   "source": [
    "# 0. Setup model"
   ]
  },
  {
   "cell_type": "code",
   "execution_count": 1,
   "metadata": {},
   "outputs": [],
   "source": [
    "import opensim as osim\n",
    "import math\n",
    "import os"
   ]
  },
  {
   "cell_type": "code",
   "execution_count": 2,
   "metadata": {},
   "outputs": [],
   "source": [
    "# root directory of the opensim project\n",
    "root = '/home/romain/Downloads/opensim/'\n",
    "\n",
    "# model file name\n",
    "model_name = 'model.osim'"
   ]
  },
  {
   "cell_type": "code",
   "execution_count": 3,
   "metadata": {},
   "outputs": [],
   "source": [
    "model = {\n",
    "    'name': model_name,\n",
    "    'path': os.path.join(root, 'metadata', 'generic', model_name),\n",
    "    'output': os.path.join(root, 'metadata', 'generic', 'updated-{}'.format(model_name))\n",
    "}"
   ]
  },
  {
   "cell_type": "code",
   "execution_count": 4,
   "metadata": {},
   "outputs": [],
   "source": [
    "# get model and clone\n",
    "original_model = osim.Model(model['path'])\n",
    "new_model = original_model.clone()\n",
    "new_model.setName('updated-{}'.format(original_model.getName()))"
   ]
  },
  {
   "cell_type": "markdown",
   "metadata": {},
   "source": [
    "## Rotate axis (Z vertical)"
   ]
  },
  {
   "cell_type": "code",
   "execution_count": 10,
   "metadata": {},
   "outputs": [
    {
     "data": {
      "text/plain": [
       "opensim.simulation.Joint"
      ]
     },
     "execution_count": 10,
     "metadata": {},
     "output_type": "execute_result"
    }
   ],
   "source": [
    "# get model gravity\n",
    "gravity = new_model.getGravity()\n",
    "original_gravity = [gravity.get(i) for i in range(gravity.size())]\n",
    "\n",
    "# set new orientation (vertical = z axis)\n",
    "new_order = [0, 2, 1]\n",
    "new_gravity = [original_gravity[idx] for idx in new_order]\n",
    "\n",
    "new_model.setGravity(osim.Vec3(*new_gravity))\n",
    "\n",
    "# \n",
    "ground_pelvis = new_model.getJointSet().get(\"ground_pelvis\")\n",
    "type(ground_pelvis)\n",
    "#xi = ground_pelvis.get"
   ]
  },
  {
   "cell_type": "code",
   "execution_count": 6,
   "metadata": {},
   "outputs": [
    {
     "data": {
      "text/plain": [
       "-1.5707963267948966"
      ]
     },
     "execution_count": 6,
     "metadata": {},
     "output_type": "execute_result"
    }
   ],
   "source": [
    "-math.pi/2"
   ]
  },
  {
   "cell_type": "markdown",
   "metadata": {},
   "source": [
    "## Strengthen model"
   ]
  },
  {
   "cell_type": "code",
   "execution_count": 1,
   "metadata": {},
   "outputs": [],
   "source": [
    "def test_strengthenModel(self):\n",
    "    \n",
    "        oldModel = osim.Model(os.path.join(test_dir, \"arm26.osim\"))\n",
    "    \n",
    "        # Create a fresh copy\n",
    "        myModel = oldModel.clone()\n",
    "    \n",
    "        # Initialize the copy\n",
    "        myModel.initSystem()\n",
    "    \n",
    "        # Name the copy for later showing in GUI\n",
    "        oldName = oldModel.getName()\n",
    "        myModel.setName(oldName+\"_Stronger\")\n",
    "    \n",
    "        # Define a scale factor for MaxIsometricForce of muscles\n",
    "        scaleFactor = 1.2\n",
    "    \n",
    "        # Apply scale factor to MaxIsometricForce\n",
    "        for i in range(myModel.getMuscles().getSize()):\n",
    "            currentMuscle = myModel.getMuscles().get(i)\n",
    "            currentMuscle.setMaxIsometricForce(currentMuscle.getMaxIsometricForce()\n",
    "                    * scaleFactor)\n",
    "    \n",
    "        # Save resulting model\n",
    "        newName = os.path.join(test_dir, 'Arm26_strengthenModel.osim')\n",
    "        myModel.printToXML(newName)\n",
    "    \n",
    "        deserMyModel = osim.Model(newName)\n",
    "        for i in range(deserMyModel.getMuscles().getSize()):\n",
    "            oldMuscle = oldModel.getMuscles().get(i)\n",
    "            newMuscle = deserMyModel.getMuscles().get(i)\n",
    "            assert_almost_equal(newMuscle.getMaxIsometricForce(),\n",
    "                    oldMuscle.getMaxIsometricForce() * scaleFactor)\n",
    "    \n",
    "        os.remove(newName)"
   ]
  }
 ],
 "metadata": {
  "kernelspec": {
   "display_name": "Python [conda env:opensim]",
   "language": "python",
   "name": "conda-env-opensim-py"
  },
  "language_info": {
   "codemirror_mode": {
    "name": "ipython",
    "version": 3
   },
   "file_extension": ".py",
   "mimetype": "text/x-python",
   "name": "python",
   "nbconvert_exporter": "python",
   "pygments_lexer": "ipython3",
   "version": "3.6.3"
  }
 },
 "nbformat": 4,
 "nbformat_minor": 2
}
