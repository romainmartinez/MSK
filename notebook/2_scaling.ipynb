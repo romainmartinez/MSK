{
 "cells": [
  {
   "cell_type": "markdown",
   "metadata": {},
   "source": [
    "# 1. Scale Model"
   ]
  },
  {
   "cell_type": "code",
   "execution_count": 1,
   "metadata": {},
   "outputs": [],
   "source": [
    "import os\n",
    "import numpy as np\n",
    "import opensim as osim"
   ]
  },
  {
   "cell_type": "markdown",
   "metadata": {},
   "source": [
    "## Inputs"
   ]
  },
  {
   "cell_type": "code",
   "execution_count": 2,
   "metadata": {},
   "outputs": [],
   "source": [
    "# root directory of the opensim project\n",
    "root = '/home/romain/Downloads/opensim/'\n",
    "\n",
    "# participant\n",
    "participant = 'SylGaud'\n",
    "\n",
    "# model file name\n",
    "model_name = 'model.osim'\n",
    "\n",
    "# static trial name\n",
    "static_trial_name = 'SylGaud0.trc'\n",
    "\n",
    "# scaling configuration\n",
    "scaling_conf_name = 'scaling.xml'"
   ]
  },
  {
   "cell_type": "code",
   "execution_count": 3,
   "metadata": {},
   "outputs": [],
   "source": [
    "model = {\n",
    "    'name': model_name,\n",
    "    'path': os.path.join(root, 'metadata', 'generic', model_name),\n",
    "    'output': os.path.join(root, 'metadata', participant, 'scaled-{}'.format(model_name))\n",
    "}\n",
    "\n",
    "static_trial = {\n",
    "    'name': static_trial_name,\n",
    "    'path': os.path.join(root, 'outputs', participant, '0_trc', static_trial_name)\n",
    "}\n",
    "\n",
    "scaling_conf = {\n",
    "    'name': scaling_conf_name,\n",
    "    'path': os.path.join(root, 'metadata', 'generic', scaling_conf_name),\n",
    "    'output': os.path.join(root, 'metadata', participant, 'scaled-{}'.format(scaling_conf_name))\n",
    "}\n",
    "\n",
    "IK_static = os.path.join(root, 'outputs', participant, '2_inverse_kinematic', 'static_Q.mot')"
   ]
  },
  {
   "cell_type": "markdown",
   "metadata": {},
   "source": [
    "## Scaling"
   ]
  },
  {
   "cell_type": "code",
   "execution_count": 4,
   "metadata": {},
   "outputs": [],
   "source": [
    "anthropo = {\n",
    "    'mass': 80,\n",
    "    'height': 1800,\n",
    "    'age': 27\n",
    "}"
   ]
  },
  {
   "cell_type": "code",
   "execution_count": 5,
   "metadata": {},
   "outputs": [
    {
     "data": {
      "text/plain": [
       "True"
      ]
     },
     "execution_count": 5,
     "metadata": {},
     "output_type": "execute_result"
    }
   ],
   "source": [
    "# 0. load and define model\n",
    "my_model = osim.Model(model['path'])\n",
    "\n",
    "# 1. get time range from static trial\n",
    "marker_data = osim.MarkerData(static_trial['path'])\n",
    "initial_time = marker_data.getStartFrameTime()\n",
    "final_time = marker_data.getLastFrameTime()\n",
    "range_time = osim.ArrayDouble()\n",
    "range_time.set(0, initial_time)\n",
    "range_time.set(1, final_time)\n",
    "\n",
    "# 2. scaling tool\n",
    "scale_tool = osim.ScaleTool(scaling_conf['path'])  # TODO edit measurment set\n",
    "scale_tool.setSubjectMass(anthropo['mass'])\n",
    "scale_tool.setSubjectHeight(anthropo['height'])\n",
    "scale_tool.setSubjectAge(anthropo['age'])\n",
    "\n",
    "# 3. GenericModelMarker\n",
    "scale_tool.getGenericModelMaker().setModelFileName(model['path'])  # Tell scale tool to use the loaded model\n",
    "\n",
    "# 4. ModelScaler\n",
    "model_scaler = scale_tool.getModelScaler()\n",
    "model_scaler.setApply(True)  # Whether or not to use the model scaler during scale\n",
    "model_scaler.setMarkerFileName(static_trial['path'])  # Set the marker file to be used for scaling\n",
    "model_scaler.setTimeRange(range_time)\n",
    "model_scaler.setPreserveMassDist(True)  # Indicating whether or not to preserve relative mass between segments\n",
    "model_scaler.setOutputModelFileName(model['output'])  # Name of model file (.osim) to write when done scaling\n",
    "#scale_tool.getModelScaler().setOutputScaleFileName()  # Filename to write scale factors that were applied to the unscaled model (optional)\n",
    "\n",
    "# 5. run model scaler tool\n",
    "model_scaler.processModel(my_model)\n",
    "\n",
    "# 6. MarkerPlacer\n",
    "scaled_model = osim.Model(model['output'])  # Load a scaled model\n",
    "marker_placer = scale_tool.getMarkerPlacer()  \n",
    "marker_placer.setApply(True) # Whether or not to use the model scaler during scale\n",
    "marker_placer.setTimeRange(range_time)\n",
    "marker_placer.setStaticPoseFileName(static_trial['path'])\n",
    "marker_placer.setOutputModelFileName(model['output'].replace('model', 'model-MKR'))  # Name of model file (.osim) to write when done scaling\n",
    "marker_placer.setOutputMotionFileName(IK_static)  # Set the output motion filename\n",
    "marker_placer.setMaxMarkerMovement(-1.00000000)  # Maximum amount of movement allowed in marker data when averaging\n",
    "\n",
    "# 7. run MarkerPlacer\n",
    "marker_placer.processModel(scaled_model)\n",
    "\n",
    "# 8. print scale config into xml\n",
    "scale_tool.printToXML(scaling_conf['output'])"
   ]
  },
  {
   "cell_type": "code",
   "execution_count": 6,
   "metadata": {},
   "outputs": [
    {
     "data": {
      "text/plain": [
       "True"
      ]
     },
     "execution_count": 6,
     "metadata": {},
     "output_type": "execute_result"
    }
   ],
   "source": [
    "# setup scale tool\n",
    "scale_tool = osim.ScaleTool(scaling_conf['path'])\n",
    "scale_tool.setName('scaled-{}'.format(model['name'].replace('.osim', '')))\n",
    "scale_tool.getGenericModelMaker().setModelFileName(model['path'])\n",
    "\n",
    "# get initial and final time\n",
    "marker_data = osim.MarkerData(static_trial['path'])\n",
    "initial_time = marker_data.getStartFrameTime()\n",
    "final_time = marker_data.getLastFrameTime()\n",
    "range_time = osim.ArrayDouble()\n",
    "range_time.set(0, initial_time)\n",
    "range_time.set(1, final_time)\n",
    "\n",
    "# model scaler\n",
    "model_scaler = scale_tool.getModelScaler()\n",
    "model_scaler.setMarkerFileName(static_trial['path'])\n",
    "model_scaler.setTimeRange(range_time)\n",
    "model_scaler.setOutputModelFileName(model['output'])\n",
    "model_scaler.setOutputScaleFileName(scaling_conf['output'])\n",
    "\n",
    "# participant characteristics\n",
    "scale_tool.setSubjectMass(participant['mass'])\n",
    "scale_tool.setSubjectHeight(participant['height'])\n",
    "scale_tool.setSubjectAge(participant['age'])\n",
    "\n",
    "# run model scaler\n",
    "gen_model = osim.Model(model['path'])\n",
    "model_scaler.processModel(gen_model)\n",
    "\n",
    "# IK\n",
    "marker_placer = scale_tool.getMarkerPlacer()\n",
    "marker_placer.setStaticPoseFileName(static_trial['path'])\n",
    "marker_placer.setTimeRange(range_time)\n",
    "marker_placer.setOutputModelFileName(model['output'].replace('model', 'model-MKR'))\n",
    "scaled_model = osim.Model(model['output'])\n",
    "#state = scaled_model.initSystem()\n",
    "marker_placer.processModel(scaled_model)\n",
    "\n",
    "scale_tool.printToXML(scaling_conf['output'])"
   ]
  }
 ],
 "metadata": {
  "kernelspec": {
   "display_name": "Python [conda env:opensim]",
   "language": "python",
   "name": "conda-env-opensim-py"
  },
  "language_info": {
   "codemirror_mode": {
    "name": "ipython",
    "version": 3
   },
   "file_extension": ".py",
   "mimetype": "text/x-python",
   "name": "python",
   "nbconvert_exporter": "python",
   "pygments_lexer": "ipython3",
   "version": "3.6.3"
  }
 },
 "nbformat": 4,
 "nbformat_minor": 2
}
