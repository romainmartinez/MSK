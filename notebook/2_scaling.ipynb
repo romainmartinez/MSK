{
 "cells": [
  {
   "cell_type": "markdown",
   "metadata": {},
   "source": [
    "# 1. Scale Model"
   ]
  },
  {
   "cell_type": "code",
   "execution_count": 1,
   "metadata": {},
   "outputs": [],
   "source": [
    "import os\n",
    "import numpy as np\n",
    "import opensim as osim"
   ]
  },
  {
   "cell_type": "markdown",
   "metadata": {},
   "source": [
    "## Inputs"
   ]
  },
  {
   "cell_type": "code",
   "execution_count": 2,
   "metadata": {},
   "outputs": [],
   "source": [
    "# root directory of the opensim project\n",
    "root = '/home/romain/Downloads/opensim/'\n",
    "\n",
    "# participant\n",
    "participant = 'SylGaud'\n",
    "\n",
    "# model file name\n",
    "model_name = 'model.osim'\n",
    "\n",
    "# static trial name\n",
    "static_trial_name = 'SylGaud0.trc'\n",
    "\n",
    "# scaling configuration\n",
    "scaling_conf_name = 'scaling.xml'"
   ]
  },
  {
   "cell_type": "code",
   "execution_count": 3,
   "metadata": {},
   "outputs": [],
   "source": [
    "model = {\n",
    "    'name': model_name,\n",
    "    'path': os.path.join(root, 'metadata', 'generic', model_name),\n",
    "    'output': os.path.join(root, 'metadata', participant, 'scaled-{}'.format(model_name))\n",
    "}\n",
    "\n",
    "static_trial = {\n",
    "    'name': static_trial_name,\n",
    "    'path': os.path.join(root, 'outputs', participant, '0_trc', static_trial_name)\n",
    "}\n",
    "\n",
    "scaling_conf = {\n",
    "    'name': scaling_conf_name,\n",
    "    'path': os.path.join(root, 'metadata', 'generic', scaling_conf_name),\n",
    "    'output': os.path.join(root, 'metadata', participant, 'scaled-{}'.format(scaling_conf_name))\n",
    "}"
   ]
  },
  {
   "cell_type": "markdown",
   "metadata": {},
   "source": [
    "## Scaling"
   ]
  },
  {
   "cell_type": "code",
   "execution_count": 4,
   "metadata": {},
   "outputs": [
    {
     "data": {
      "text/plain": [
       "True"
      ]
     },
     "execution_count": 4,
     "metadata": {},
     "output_type": "execute_result"
    }
   ],
   "source": [
    "# setup scale tool\n",
    "scale_tool = osim.ScaleTool(scaling_conf['path'])\n",
    "scale_tool.setName('scaled-{}'.format(model['name'].replace('.osim', '')))\n",
    "scale_tool.getGenericModelMaker().setModelFileName(model['path'])\n",
    "\n",
    "# get initial and final time\n",
    "marker_data = osim.MarkerData(static_trial['path'])\n",
    "initial_time = marker_data.getStartFrameTime()\n",
    "final_time = marker_data.getLastFrameTime()\n",
    "range_time = osim.ArrayDouble()\n",
    "range_time.set(0, initial_time)\n",
    "range_time.set(1, final_time)\n",
    "# NOT WORKING HERE\n",
    "\n",
    "# model scaler\n",
    "model_scaler = scale_tool.getModelScaler()\n",
    "model_scaler.setMarkerFileName(static_trial['path'])\n",
    "model_scaler.setTimeRange(range_time)\n",
    "model_scaler.setOutputModelFileName(model['output'])\n",
    "model_scaler.setOutputScaleFileName(scaling_conf['output'])\n",
    "\n",
    "# run model scaler\n",
    "gen_model = osim.Model(model['path'])\n",
    "#state = gen_model.initSystem()\n",
    "model_scaler.processModel(gen_model)\n",
    "\n",
    "# IK\n",
    "marker_placer = scale_tool.getMarkerPlacer()\n",
    "marker_placer.setStaticPoseFileName(static_trial['path'])\n",
    "marker_placer.setTimeRange(range_time)\n",
    "marker_placer.setOutputModelFileName(model['output'].replace('model', 'model-MKR'))\n",
    "scaled_model = osim.Model(model['output'])\n",
    "#state = scaled_model.initSystem()\n",
    "marker_placer.processModel(scaled_model)\n",
    "\n",
    "scale_tool.printToXML(scaling_conf['output'])"
   ]
  }
 ],
 "metadata": {
  "kernelspec": {
   "display_name": "Python [conda env:opensim]",
   "language": "python",
   "name": "conda-env-opensim-py"
  },
  "language_info": {
   "codemirror_mode": {
    "name": "ipython",
    "version": 3
   },
   "file_extension": ".py",
   "mimetype": "text/x-python",
   "name": "python",
   "nbconvert_exporter": "python",
   "pygments_lexer": "ipython3",
   "version": "3.6.3"
  }
 },
 "nbformat": 4,
 "nbformat_minor": 2
}
