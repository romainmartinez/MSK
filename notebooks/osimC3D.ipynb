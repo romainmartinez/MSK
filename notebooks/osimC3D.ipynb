{
 "cells": [
  {
   "cell_type": "markdown",
   "metadata": {},
   "source": [
    "# Todo\n",
    "- EMG"
   ]
  },
  {
   "cell_type": "code",
   "execution_count": 1,
   "metadata": {},
   "outputs": [],
   "source": [
    "import opensim as osim"
   ]
  },
  {
   "cell_type": "code",
   "execution_count": 4,
   "metadata": {},
   "outputs": [],
   "source": [
    "class osimC3D:\n",
    "    def __init__(self, path2c3d, kind='markers'):\n",
    "        \"\"\"Class constructor\"\"\"\n",
    "        \n",
    "        self.path = path2c3d\n",
    "        tables = osim.C3DFileAdapter().readFile(path2c3d)\n",
    "        if kind in tables:\n",
    "            self.data = tables[kind]\n",
    "        else:\n",
    "            raise AttributeError('There is no {} in the c3d file ({}).'.format(kind, path2c3d))\n",
    "            \n",
    "    def getRate(self):\n",
    "        \"\"\"Get the capture rate used for the data\"\"\"\n",
    "        return float(self.data.getTableMetaDataAsString('DataRate'))\n",
    "    \n",
    "    def getNumColumns(self):\n",
    "        \"\"\"Get the number of elements in the c3d file\"\"\"\n",
    "        return self.data.getNumColumns()\n",
    "    \n",
    "    def getNumRows(self):\n",
    "        \"\"\"get the last frame of the c3d file\"\"\"\n",
    "        return self.data.getNumRows()\n",
    "    \n",
    "    @staticmethod\n",
    "    def osimTabletoDict(osimtable):\n",
    "        pass\n",
    "        "
   ]
  },
  {
   "cell_type": "code",
   "execution_count": 5,
   "metadata": {},
   "outputs": [],
   "source": [
    "path2c3d = 'examples_files/DavOH6H1_1.c3d'\n",
    "xi = osimC3D(path2c3d)"
   ]
  },
  {
   "cell_type": "code",
   "execution_count": 12,
   "metadata": {},
   "outputs": [
    {
     "data": {
      "text/plain": [
       "'examples_files/DavOH6H1_1.c3d'"
      ]
     },
     "execution_count": 12,
     "metadata": {},
     "output_type": "execute_result"
    }
   ],
   "source": [
    "xi.path"
   ]
  },
  {
   "cell_type": "code",
   "execution_count": 85,
   "metadata": {},
   "outputs": [
    {
     "name": "stdout",
     "output_type": "stream",
     "text": [
      "path: examples_files/DavOH6H1_1.c3d\n",
      "rate marker: 100.0\n",
      "n markers: 51\n",
      "n rows: 594\n"
     ]
    }
   ],
   "source": [
    "print('path: {}'.format(xi.path))\n",
    "print('rate marker: {}'.format(xi.getRate_marker()))\n",
    "#print('rate force: {}'.format(xi.getRate_force()))\n",
    "print('n markers: {}'.format(xi.getNumTrajectories()))\n",
    "#print('n forceplates: {}'.format(xi.getNumForces()))\n",
    "print('n rows: {}'.format(xi.getLastFrame()))"
   ]
  }
 ],
 "metadata": {
  "kernelspec": {
   "display_name": "Python [conda env:opensim]",
   "language": "python",
   "name": "conda-env-opensim-py"
  },
  "language_info": {
   "codemirror_mode": {
    "name": "ipython",
    "version": 3
   },
   "file_extension": ".py",
   "mimetype": "text/x-python",
   "name": "python",
   "nbconvert_exporter": "python",
   "pygments_lexer": "ipython3",
   "version": "3.6.3"
  }
 },
 "nbformat": 4,
 "nbformat_minor": 2
}
