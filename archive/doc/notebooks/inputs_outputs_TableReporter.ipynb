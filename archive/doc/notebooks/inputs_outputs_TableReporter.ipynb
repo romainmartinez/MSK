{
 "cells": [
  {
   "cell_type": "markdown",
   "metadata": {},
   "source": [
    "# Wiring inputs and outputs with TableReporter"
   ]
  },
  {
   "cell_type": "markdown",
   "metadata": {},
   "source": [
    "- This example shows how to wire inputs and outputs by reporting the position of the system's center of mass.\n",
    "- We also illustrate that input-output connections are stored in model (.osim) files.\n",
    "- The model contains just one body, a free joint, and the table reporter."
   ]
  },
  {
   "cell_type": "code",
   "execution_count": 1,
   "metadata": {},
   "outputs": [],
   "source": [
    "import opensim as osim"
   ]
  },
  {
   "cell_type": "code",
   "execution_count": 2,
   "metadata": {},
   "outputs": [],
   "source": [
    "model_filename = 'wiring_inputs_and_outputs_with_TableReporter.osim'"
   ]
  },
  {
   "cell_type": "markdown",
   "metadata": {},
   "source": [
    "This function create and prints the model to a `.osim` file"
   ]
  },
  {
   "cell_type": "code",
   "execution_count": 3,
   "metadata": {},
   "outputs": [],
   "source": [
    "def print_model():\n",
    "    model = osim.Model()\n",
    "    model.setName('model')\n",
    "    \n",
    "    # Create a body with name 'body', mass of 1 kg, center of mass at the\n",
    "    # origin of the body, and unit inertia (Ixx = Iyy = Izz = 1 kg-m^2).\n",
    "    body = osim.Body('body', 1.0, osim.Vec3(0), osim.Inertia(1))\n",
    "    \n",
    "    # Create a free joint (all 6 degrees of freedom) with Ground as the parent\n",
    "    # body and 'body' as the child body.\n",
    "    joint = osim.FreeJoint('joint', model.getGround(), body)\n",
    "    \n",
    "    # Add the body and joint to the model.\n",
    "    model.addComponent(body)\n",
    "    model.addComponent(joint)\n",
    "    \n",
    "    # Create a TableReporter to save quantities to a file after simulating.\n",
    "    reporter = osim.TableReporterVec3()\n",
    "    reporter.setName('reporter')\n",
    "    reporter.set_report_time_interval(0.1)\n",
    "    # Report the position of the origin of the body.\n",
    "    reporter.addToReport(body.getOutput('position'))\n",
    "    # For comparison, we will also get the center of mass position from the\n",
    "    # Model, and we can check that the two outputs are the same for our\n",
    "    # one-body system. The (optional) second argument is an alias for the name\n",
    "    # of the output; it is used as the column label in the table.\n",
    "    reporter.addToReport(model.getOutput('com_position'), 'com_pos')\n",
    "    # Display what input-output connections look like in XML (in .osim files).\n",
    "    print(\"Reporter input-output connections in XML:\\n\" + reporter.dump())\n",
    "    \n",
    "    model.addComponent(reporter)\n",
    "\n",
    "    model.printToXML(model_filename)"
   ]
  },
  {
   "cell_type": "markdown",
   "metadata": {},
   "source": [
    "Create and print the model file"
   ]
  },
  {
   "cell_type": "code",
   "execution_count": 4,
   "metadata": {},
   "outputs": [
    {
     "name": "stdout",
     "output_type": "stream",
     "text": [
      "Reporter input-output connections in XML:\n",
      "<TableReporter__Vec3_>\n",
      "    <!--List of components that this component owns and serializes.-->\n",
      "    <components />\n",
      "    <!--The recording time interval (s). If interval == 0, defaults toevery valid integration time step.-->\n",
      "    <report_time_interval>0.10000000000000001</report_time_interval>\n",
      "    <!--Paths to outputs (channels) to satisfy the list Input 'inputs' of type InputT (description: Variable list of quantities to be reported.). To specify multiple paths, put spaces between them.-->\n",
      "    <input_inputs_connectee_names>../model/body|position ../model|com_position(com_pos)</input_inputs_connectee_names>\n",
      "</TableReporter__Vec3_>\n",
      "\n"
     ]
    }
   ],
   "source": [
    "print_model()"
   ]
  },
  {
   "cell_type": "markdown",
   "metadata": {},
   "source": [
    "Load the model file"
   ]
  },
  {
   "cell_type": "code",
   "execution_count": 7,
   "metadata": {},
   "outputs": [],
   "source": [
    "deserialized_model = osim.Model(model_filename)\n",
    "state = deserialized_model.initSystem()"
   ]
  },
  {
   "cell_type": "markdown",
   "metadata": {},
   "source": [
    "We can fetch the TableReporter from within the deserialized model"
   ]
  },
  {
   "cell_type": "code",
   "execution_count": 8,
   "metadata": {},
   "outputs": [],
   "source": [
    "reporter = osim.TableReporterVec3.safeDownCast(\n",
    "        deserialized_model.getComponent('reporter'))"
   ]
  },
  {
   "cell_type": "markdown",
   "metadata": {},
   "source": [
    "We can access the names of the outputs that the reporter is connected to"
   ]
  },
  {
   "cell_type": "code",
   "execution_count": 9,
   "metadata": {},
   "outputs": [
    {
     "name": "stdout",
     "output_type": "stream",
     "text": [
      "Outputs connected to the reporter:\n",
      "../body|position\n",
      "..|com_position(com_pos)\n"
     ]
    }
   ],
   "source": [
    "print('Outputs connected to the reporter:')\n",
    "for i in range(reporter.getInput('inputs').getNumConnectees()):\n",
    "    print(reporter.getInput('inputs').getConnecteeName(i))"
   ]
  },
  {
   "cell_type": "markdown",
   "metadata": {},
   "source": [
    "Simulate the model"
   ]
  },
  {
   "cell_type": "code",
   "execution_count": 10,
   "metadata": {},
   "outputs": [
    {
     "data": {
      "text/plain": [
       "True"
      ]
     },
     "execution_count": 10,
     "metadata": {},
     "output_type": "execute_result"
    }
   ],
   "source": [
    "manager = osim.Manager(deserialized_model)\n",
    "manager.setInitialTime(0)\n",
    "manager.setFinalTime(1.0)\n",
    "manager.integrate(state)"
   ]
  },
  {
   "cell_type": "markdown",
   "metadata": {},
   "source": [
    "Now that the simulation is done, get the table from the TableReporter and write it to a file\n",
    "- This returns the TimeSeriesTableVec3 that holds the history of positions."
   ]
  },
  {
   "cell_type": "code",
   "execution_count": 11,
   "metadata": {},
   "outputs": [],
   "source": [
    "table = reporter.getTable()"
   ]
  },
  {
   "cell_type": "markdown",
   "metadata": {},
   "source": [
    "Create a FileAdapter, which handles writing to (and reading from) .sto files"
   ]
  },
  {
   "cell_type": "code",
   "execution_count": 12,
   "metadata": {},
   "outputs": [],
   "source": [
    "sto = osim.STOFileAdapterVec3()\n",
    "sto.write(table, 'wiring_inputs_and_outputs_with_TableReporter.sto')"
   ]
  }
 ],
 "metadata": {
  "kernelspec": {
   "display_name": "Python [conda env:opensim]",
   "language": "python",
   "name": "conda-env-opensim-py"
  },
  "language_info": {
   "codemirror_mode": {
    "name": "ipython",
    "version": 3
   },
   "file_extension": ".py",
   "mimetype": "text/x-python",
   "name": "python",
   "nbconvert_exporter": "python",
   "pygments_lexer": "ipython3",
   "version": "3.6.3"
  }
 },
 "nbformat": 4,
 "nbformat_minor": 2
}
