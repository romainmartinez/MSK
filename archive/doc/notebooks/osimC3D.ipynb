{
 "cells": [
  {
   "cell_type": "markdown",
   "metadata": {},
   "source": [
    "# Todo\n",
    "- EMG"
   ]
  },
  {
   "cell_type": "code",
   "execution_count": 1,
   "metadata": {},
   "outputs": [],
   "source": [
    "import opensim as osim\n",
    "import os"
   ]
  },
  {
   "cell_type": "code",
   "execution_count": 2,
   "metadata": {},
   "outputs": [],
   "source": [
    "import sys\n",
    "sys.path.append(\"/usr/local/lib/btk-0.4dev\")\n",
    "import btk"
   ]
  },
  {
   "cell_type": "code",
   "execution_count": 2,
   "metadata": {},
   "outputs": [
    {
     "ename": "AttributeError",
     "evalue": "module 'btk' has no attribute 'btkAcquisitionFileReader'",
     "output_type": "error",
     "traceback": [
      "\u001b[0;31m---------------------------------------------------------------------------\u001b[0m",
      "\u001b[0;31mAttributeError\u001b[0m                            Traceback (most recent call last)",
      "\u001b[0;32m<ipython-input-2-166a77b7f3a3>\u001b[0m in \u001b[0;36m<module>\u001b[0;34m()\u001b[0m\n\u001b[1;32m      1\u001b[0m \u001b[0;32mimport\u001b[0m \u001b[0mbtk\u001b[0m\u001b[0;34m\u001b[0m\u001b[0m\n\u001b[0;32m----> 2\u001b[0;31m \u001b[0mreader\u001b[0m \u001b[0;34m=\u001b[0m \u001b[0mbtk\u001b[0m\u001b[0;34m.\u001b[0m\u001b[0mbtkAcquisitionFileReader\u001b[0m\u001b[0;34m(\u001b[0m\u001b[0;34m)\u001b[0m\u001b[0;34m\u001b[0m\u001b[0m\n\u001b[0m",
      "\u001b[0;31mAttributeError\u001b[0m: module 'btk' has no attribute 'btkAcquisitionFileReader'"
     ]
    }
   ],
   "source": [
    "import btk\n",
    "reader = btk.btkAcquisitionFileReader()"
   ]
  },
  {
   "cell_type": "code",
   "execution_count": 73,
   "metadata": {},
   "outputs": [],
   "source": [
    "class osimC3D:\n",
    "    def __init__(self, path2c3d, kind='markers'):\n",
    "        \"\"\"Class constructor\"\"\"\n",
    "        \n",
    "        self.path = path2c3d\n",
    "        tables = osim.C3DFileAdapter().read(path2c3d)\n",
    "        if kind in tables:\n",
    "            self.data = tables[kind]\n",
    "        else:\n",
    "            raise AttributeError('There is no {} in the c3d file ({}).'.format(kind, path2c3d))\n",
    "            \n",
    "    def get_rate(self):\n",
    "        \"\"\"Return the capture rate used for the data\"\"\"\n",
    "        return float(self.data.getTableMetaDataAsString('DataRate'))\n",
    "    \n",
    "    def get_num_columns(self):\n",
    "        \"\"\"Return the number of elements in the c3d file\"\"\"\n",
    "        return self.data.getNumColumns()\n",
    "    \n",
    "    def get_num_rows(self):\n",
    "        \"\"\"Return the last frame of the c3d file\"\"\"\n",
    "        return self.data.getNumRows()\n",
    "    \n",
    "    def get_path_and_filename(self):\n",
    "        \"\"\"Returns tuple (head, tail) where \"tail\" is\n",
    "        everything after the final slash\"\"\"\n",
    "        return os.path.split(self.path)\n",
    "    \n",
    "    def to_trc(self, filename=None):\n",
    "        if not filename:\n",
    "            filename = input('Filename not provided, please input something: ')\n",
    "        trc_adapter = osim.TRCFileAdapter()\n",
    "        trc_adapter.write(self.data, '{}.trc'.format(filename))\n",
    "        "
   ]
  },
  {
   "cell_type": "code",
   "execution_count": 74,
   "metadata": {},
   "outputs": [
    {
     "ename": "RuntimeError",
     "evalue": "std::exception in 'OpenSim::C3DFileAdapter::Tables OpenSim::C3DFileAdapter::read(std::string const &)': map::at",
     "output_type": "error",
     "traceback": [
      "\u001b[0;31m---------------------------------------------------------------------------\u001b[0m",
      "\u001b[0;31mRuntimeError\u001b[0m                              Traceback (most recent call last)",
      "\u001b[0;32m<ipython-input-74-56b3235afa65>\u001b[0m in \u001b[0;36m<module>\u001b[0;34m()\u001b[0m\n\u001b[1;32m      1\u001b[0m \u001b[0mpath2c3d\u001b[0m \u001b[0;34m=\u001b[0m \u001b[0mos\u001b[0m\u001b[0;34m.\u001b[0m\u001b[0mpath\u001b[0m\u001b[0;34m.\u001b[0m\u001b[0mabspath\u001b[0m\u001b[0;34m(\u001b[0m\u001b[0;34m'./examples_files/DavOH6H1_1.c3d'\u001b[0m\u001b[0;34m)\u001b[0m\u001b[0;34m\u001b[0m\u001b[0m\n\u001b[0;32m----> 2\u001b[0;31m \u001b[0mxi\u001b[0m \u001b[0;34m=\u001b[0m \u001b[0mosimC3D\u001b[0m\u001b[0;34m(\u001b[0m\u001b[0mpath2c3d\u001b[0m\u001b[0;34m,\u001b[0m \u001b[0mkind\u001b[0m\u001b[0;34m=\u001b[0m\u001b[0;34m'markers'\u001b[0m\u001b[0;34m)\u001b[0m\u001b[0;34m\u001b[0m\u001b[0m\n\u001b[0m",
      "\u001b[0;32m<ipython-input-73-0e5afa2ce65f>\u001b[0m in \u001b[0;36m__init__\u001b[0;34m(self, path2c3d, kind)\u001b[0m\n\u001b[1;32m      4\u001b[0m \u001b[0;34m\u001b[0m\u001b[0m\n\u001b[1;32m      5\u001b[0m         \u001b[0mself\u001b[0m\u001b[0;34m.\u001b[0m\u001b[0mpath\u001b[0m \u001b[0;34m=\u001b[0m \u001b[0mpath2c3d\u001b[0m\u001b[0;34m\u001b[0m\u001b[0m\n\u001b[0;32m----> 6\u001b[0;31m         \u001b[0mtables\u001b[0m \u001b[0;34m=\u001b[0m \u001b[0mosim\u001b[0m\u001b[0;34m.\u001b[0m\u001b[0mC3DFileAdapter\u001b[0m\u001b[0;34m(\u001b[0m\u001b[0;34m)\u001b[0m\u001b[0;34m.\u001b[0m\u001b[0mread\u001b[0m\u001b[0;34m(\u001b[0m\u001b[0mpath2c3d\u001b[0m\u001b[0;34m)\u001b[0m\u001b[0;34m\u001b[0m\u001b[0m\n\u001b[0m\u001b[1;32m      7\u001b[0m         \u001b[0;32mif\u001b[0m \u001b[0mkind\u001b[0m \u001b[0;32min\u001b[0m \u001b[0mtables\u001b[0m\u001b[0;34m:\u001b[0m\u001b[0;34m\u001b[0m\u001b[0m\n\u001b[1;32m      8\u001b[0m             \u001b[0mself\u001b[0m\u001b[0;34m.\u001b[0m\u001b[0mdata\u001b[0m \u001b[0;34m=\u001b[0m \u001b[0mtables\u001b[0m\u001b[0;34m[\u001b[0m\u001b[0mkind\u001b[0m\u001b[0;34m]\u001b[0m\u001b[0;34m\u001b[0m\u001b[0m\n",
      "\u001b[0;32m~/miniconda3/envs/opensim/lib/python3.6/site-packages/opensim/common.py\u001b[0m in \u001b[0;36mread\u001b[0;34m(fileName)\u001b[0m\n\u001b[1;32m  28593\u001b[0m \u001b[0;34m\u001b[0m\u001b[0m\n\u001b[1;32m  28594\u001b[0m         \"\"\"\n\u001b[0;32m> 28595\u001b[0;31m         \u001b[0;32mreturn\u001b[0m \u001b[0m_common\u001b[0m\u001b[0;34m.\u001b[0m\u001b[0mC3DFileAdapter_read\u001b[0m\u001b[0;34m(\u001b[0m\u001b[0mfileName\u001b[0m\u001b[0;34m)\u001b[0m\u001b[0;34m\u001b[0m\u001b[0m\n\u001b[0m\u001b[1;32m  28596\u001b[0m \u001b[0;34m\u001b[0m\u001b[0m\n\u001b[1;32m  28597\u001b[0m     \u001b[0;32mif\u001b[0m \u001b[0m_newclass\u001b[0m\u001b[0;34m:\u001b[0m\u001b[0;34m\u001b[0m\u001b[0m\n",
      "\u001b[0;31mRuntimeError\u001b[0m: std::exception in 'OpenSim::C3DFileAdapter::Tables OpenSim::C3DFileAdapter::read(std::string const &)': map::at"
     ]
    }
   ],
   "source": [
    "path2c3d = os.path.abspath('./examples_files/DavOH6H1_1.c3d')\n",
    "xi = osimC3D(path2c3d, kind='markers')"
   ]
  },
  {
   "cell_type": "code",
   "execution_count": 54,
   "metadata": {},
   "outputs": [],
   "source": [
    "xi.get_rate()\n",
    "xi.get_num_columns()\n",
    "xi.get_num_rows()\n",
    "xi.get_path_and_filename()\n",
    "xi.to_trc()"
   ]
  },
  {
   "cell_type": "code",
   "execution_count": 97,
   "metadata": {},
   "outputs": [
    {
     "ename": "RuntimeError",
     "evalue": "std::exception in 'OpenSim::C3DFileAdapter::Tables OpenSim::C3DFileAdapter::read(std::string const &)': map::at",
     "output_type": "error",
     "traceback": [
      "\u001b[0;31m---------------------------------------------------------------------------\u001b[0m",
      "\u001b[0;31mRuntimeError\u001b[0m                              Traceback (most recent call last)",
      "\u001b[0;32m<ipython-input-97-80db19ffaabf>\u001b[0m in \u001b[0;36m<module>\u001b[0;34m()\u001b[0m\n\u001b[1;32m      1\u001b[0m \u001b[0mtables\u001b[0m \u001b[0;34m=\u001b[0m \u001b[0mosim\u001b[0m\u001b[0;34m.\u001b[0m\u001b[0mC3DFileAdapter\u001b[0m\u001b[0;34m(\u001b[0m\u001b[0;34m)\u001b[0m\u001b[0;34m\u001b[0m\u001b[0m\n\u001b[0;32m----> 2\u001b[0;31m \u001b[0mxi\u001b[0m \u001b[0;34m=\u001b[0m \u001b[0mtables\u001b[0m\u001b[0;34m.\u001b[0m\u001b[0mread\u001b[0m\u001b[0;34m(\u001b[0m\u001b[0;34m'./examples_files/1_r08_1.c3d'\u001b[0m\u001b[0;34m)\u001b[0m\u001b[0;34m\u001b[0m\u001b[0m\n\u001b[0m\u001b[1;32m      3\u001b[0m \u001b[0mzi\u001b[0m \u001b[0;34m=\u001b[0m \u001b[0mxi\u001b[0m\u001b[0;34m[\u001b[0m\u001b[0;34m'markers'\u001b[0m\u001b[0;34m]\u001b[0m\u001b[0;34m\u001b[0m\u001b[0m\n",
      "\u001b[0;32m~/miniconda3/envs/opensim/lib/python3.6/site-packages/opensim/common.py\u001b[0m in \u001b[0;36mread\u001b[0;34m(fileName)\u001b[0m\n\u001b[1;32m  28593\u001b[0m \u001b[0;34m\u001b[0m\u001b[0m\n\u001b[1;32m  28594\u001b[0m         \"\"\"\n\u001b[0;32m> 28595\u001b[0;31m         \u001b[0;32mreturn\u001b[0m \u001b[0m_common\u001b[0m\u001b[0;34m.\u001b[0m\u001b[0mC3DFileAdapter_read\u001b[0m\u001b[0;34m(\u001b[0m\u001b[0mfileName\u001b[0m\u001b[0;34m)\u001b[0m\u001b[0;34m\u001b[0m\u001b[0m\n\u001b[0m\u001b[1;32m  28596\u001b[0m \u001b[0;34m\u001b[0m\u001b[0m\n\u001b[1;32m  28597\u001b[0m     \u001b[0;32mif\u001b[0m \u001b[0m_newclass\u001b[0m\u001b[0;34m:\u001b[0m\u001b[0;34m\u001b[0m\u001b[0m\n",
      "\u001b[0;31mRuntimeError\u001b[0m: std::exception in 'OpenSim::C3DFileAdapter::Tables OpenSim::C3DFileAdapter::read(std::string const &)': map::at"
     ]
    }
   ],
   "source": [
    "tables = osim.C3DFileAdapter()\n",
    "xi = tables.read('./examples_files/1_r08_1.c3d')\n",
    "zi = xi['markers']"
   ]
  },
  {
   "cell_type": "code",
   "execution_count": null,
   "metadata": {},
   "outputs": [],
   "source": [
    "def test_strengthenModel(self):\n",
    "    \n",
    "        oldModel = osim.Model(os.path.join(test_dir, \"arm26.osim\"))\n",
    "    \n",
    "        # Create a fresh copy\n",
    "        myModel = oldModel.clone()\n",
    "    \n",
    "        # Initialize the copy\n",
    "        myModel.initSystem()\n",
    "    \n",
    "        # Name the copy for later showing in GUI\n",
    "        oldName = oldModel.getName()\n",
    "        myModel.setName(oldName+\"_Stronger\")\n",
    "    \n",
    "        # Define a scale factor for MaxIsometricForce of muscles\n",
    "        scaleFactor = 1.2\n",
    "    \n",
    "        # Apply scale factor to MaxIsometricForce\n",
    "        for i in range(myModel.getMuscles().getSize()):\n",
    "            currentMuscle = myModel.getMuscles().get(i)\n",
    "            currentMuscle.setMaxIsometricForce(currentMuscle.getMaxIsometricForce()\n",
    "                    * scaleFactor)\n",
    "    \n",
    "        # Save resulting model\n",
    "        newName = os.path.join(test_dir, 'Arm26_strengthenModel.osim')\n",
    "        myModel.printToXML(newName)\n",
    "    \n",
    "        deserMyModel = osim.Model(newName)\n",
    "        for i in range(deserMyModel.getMuscles().getSize()):\n",
    "            oldMuscle = oldModel.getMuscles().get(i)\n",
    "            newMuscle = deserMyModel.getMuscles().get(i)\n",
    "            assert_almost_equal(newMuscle.getMaxIsometricForce(),\n",
    "                    oldMuscle.getMaxIsometricForce() * scaleFactor)\n",
    "    \n",
    "        os.remove(newName)"
   ]
  }
 ],
 "metadata": {
  "kernelspec": {
   "display_name": "Python [conda env:opensim]",
   "language": "python",
   "name": "conda-env-opensim-py"
  },
  "language_info": {
   "codemirror_mode": {
    "name": "ipython",
    "version": 3
   },
   "file_extension": ".py",
   "mimetype": "text/x-python",
   "name": "python",
   "nbconvert_exporter": "python",
   "pygments_lexer": "ipython3",
   "version": "3.6.3"
  }
 },
 "nbformat": 4,
 "nbformat_minor": 2
}
