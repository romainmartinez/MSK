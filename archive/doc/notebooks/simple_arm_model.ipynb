{
 "cells": [
  {
   "cell_type": "markdown",
   "metadata": {},
   "source": [
    "# Build a simple arm model"
   ]
  },
  {
   "cell_type": "markdown",
   "metadata": {},
   "source": [
    "- This short piece of OpenSim python API example demonstrates a simple arm which consists of two bodies, two joints, a muscle and a controller.\n",
    "- All model elements are labeled with their appropriate biomechanical namesakes for easy identification and clarity of demonstration.  "
   ]
  },
  {
   "cell_type": "code",
   "execution_count": 3,
   "metadata": {},
   "outputs": [],
   "source": [
    "import opensim as osim"
   ]
  },
  {
   "cell_type": "code",
   "execution_count": 4,
   "metadata": {},
   "outputs": [],
   "source": [
    "arm = osim.Model()"
   ]
  },
  {
   "cell_type": "markdown",
   "metadata": {},
   "source": [
    "Create two links, each with a mass of 1 kg, centre of mass at the body's origin, and moments and products of inertia of zero."
   ]
  },
  {
   "cell_type": "code",
   "execution_count": 6,
   "metadata": {},
   "outputs": [],
   "source": [
    "humerus = osim.Body('Humerus',\n",
    "                    1.0,\n",
    "                    osim.Vec3(0, 0, 0),\n",
    "                    osim.Inertia(0, 0, 0))\n",
    "radius = osim.Body('radius',\n",
    "                   1.0,\n",
    "                  osim.Vec3(0, 0, 0),\n",
    "                  osim.Inertia(0, 0, 0))"
   ]
  },
  {
   "cell_type": "markdown",
   "metadata": {},
   "source": [
    "Connect the bodies with pin joints. Assume each body is 1m long"
   ]
  },
  {
   "cell_type": "code",
   "execution_count": 7,
   "metadata": {},
   "outputs": [],
   "source": [
    "shoulder = osim.PinJoint('shoulder',\n",
    "                         arm.getGround(),  # PhysicalFrame\n",
    "                         osim.Vec3(0, 0, 0),\n",
    "                         osim.Vec3(0, 0, 0),\n",
    "                         humerus,          # PhysicalFrame\n",
    "                         osim.Vec3(0, 1, 0),\n",
    "                         osim.Vec3(0, 0, 0))\n",
    "\n",
    "elbow = osim.PinJoint('elbow',\n",
    "                      humerus,             # PhysicalFrame\n",
    "                      osim.Vec3(0, 0, 0),\n",
    "                      osim.Vec3(0, 0, 0),\n",
    "                      radius,              # PhysicalFrame\n",
    "                      osim.Vec3(0, 1, 0),\n",
    "                      osim.Vec3(0, 1, 0))"
   ]
  },
  {
   "cell_type": "markdown",
   "metadata": {},
   "source": [
    "Add a muscle that flexes the elbow (actuator)"
   ]
  },
  {
   "cell_type": "code",
   "execution_count": 9,
   "metadata": {},
   "outputs": [],
   "source": [
    "biceps = osim.Millard2012EquilibriumMuscle(\"biceps\",  # Muscle name\n",
    "                                           200.0,  # Max isometric force\n",
    "                                           0.6,  # Optimal fibre length\n",
    "                                           0.55,  # Tendon slack length\n",
    "                                           0.0)  # Pennation angle\n",
    "\n",
    "biceps.addNewPathPoint(\"origin\",\n",
    "                       humerus,\n",
    "                       osim.Vec3(0, 0.8, 0))\n",
    "\n",
    "biceps.addNewPathPoint(\"insertion\",\n",
    "                       radius,\n",
    "                       osim.Vec3(0, 0.7, 0))"
   ]
  },
  {
   "cell_type": "markdown",
   "metadata": {},
   "source": [
    "Add a controller that specifies the excitation of the muscle"
   ]
  },
  {
   "cell_type": "code",
   "execution_count": 10,
   "metadata": {},
   "outputs": [],
   "source": [
    "brain = osim.PrescribedController()\n",
    "brain.addActuator(biceps)\n",
    "brain.prescribeControlForActuator(\"biceps\",\n",
    "                                  osim.StepFunction(0.5, 3.0, 0.3, 1.0))"
   ]
  },
  {
   "cell_type": "markdown",
   "metadata": {},
   "source": [
    "Build model with components created above"
   ]
  },
  {
   "cell_type": "code",
   "execution_count": 11,
   "metadata": {},
   "outputs": [],
   "source": [
    "arm.addBody(humerus)\n",
    "arm.addBody(radius)\n",
    "arm.addJoint(shoulder) # Now required in OpenSim4.0\n",
    "arm.addJoint(elbow)\n",
    "arm.addForce(biceps)\n",
    "arm.addController(brain)"
   ]
  },
  {
   "cell_type": "markdown",
   "metadata": {},
   "source": [
    "Add a console reporter to print the muscle fibre force and elbow angle"
   ]
  },
  {
   "cell_type": "code",
   "execution_count": 12,
   "metadata": {},
   "outputs": [],
   "source": [
    "reporter = osim.ConsoleReporter()\n",
    "reporter.set_report_time_interval(1.0)\n",
    "reporter.addToReport(biceps.getOutput(\"fiber_force\"))\n",
    "elbow_coord = elbow.getCoordinate().getOutput(\"value\")\n",
    "reporter.addToReport(elbow_coord, \"elbow_angle\")\n",
    "arm.addComponent(reporter)"
   ]
  },
  {
   "cell_type": "markdown",
   "metadata": {},
   "source": [
    "Add a display geometry"
   ]
  },
  {
   "cell_type": "code",
   "execution_count": 13,
   "metadata": {},
   "outputs": [],
   "source": [
    "bodyGeometry = osim.Ellipsoid(0.1, 0.5, 0.1)\n",
    "bodyGeometry.setColor(osim.Gray)\n",
    "humerusCenter = osim.PhysicalOffsetFrame()\n",
    "humerusCenter.setName(\"humerusCenter\")\n",
    "humerusCenter.setParentFrame(humerus)\n",
    "humerusCenter.setOffsetTransform(osim.Transform(osim.Vec3(0, 0.5, 0)))\n",
    "humerus.addComponent(humerusCenter)\n",
    "humerusCenter.attachGeometry(bodyGeometry.clone())\n",
    "\n",
    "radiusCenter = osim.PhysicalOffsetFrame()\n",
    "radiusCenter.setName(\"radiusCenter\")\n",
    "radiusCenter.setParentFrame(radius)\n",
    "radiusCenter.setOffsetTransform(osim.Transform(osim.Vec3(0, 0.5, 0)))\n",
    "radius.addComponent(radiusCenter)\n",
    "radiusCenter.attachGeometry(bodyGeometry.clone())"
   ]
  },
  {
   "cell_type": "markdown",
   "metadata": {},
   "source": [
    "Configure the model"
   ]
  },
  {
   "cell_type": "code",
   "execution_count": 14,
   "metadata": {},
   "outputs": [],
   "source": [
    "state = arm.initSystem()\n",
    "# Fix the shoulder at its default angle and begin with the elbow flexed.\n",
    "shoulder.getCoordinate().setLocked(state, True)\n",
    "elbow.getCoordinate().setValue(state, 0.5 * osim.SimTK_PI)\n",
    "arm.equilibrateMuscles(state)"
   ]
  },
  {
   "cell_type": "markdown",
   "metadata": {},
   "source": [
    "Simulate"
   ]
  },
  {
   "cell_type": "code",
   "execution_count": 15,
   "metadata": {},
   "outputs": [
    {
     "data": {
      "text/plain": [
       "True"
      ]
     },
     "execution_count": 15,
     "metadata": {},
     "output_type": "execute_result"
    }
   ],
   "source": [
    "manager = osim.Manager(arm)\n",
    "manager.setInitialTime(0)\n",
    "manager.setFinalTime(10.0)\n",
    "manager.integrate(state)"
   ]
  },
  {
   "cell_type": "code",
   "execution_count": 16,
   "metadata": {},
   "outputs": [
    {
     "data": {
      "text/plain": [
       "True"
      ]
     },
     "execution_count": 16,
     "metadata": {},
     "output_type": "execute_result"
    }
   ],
   "source": [
    "arm.printToXML(\"SimpleArm.osim\")"
   ]
  }
 ],
 "metadata": {
  "kernelspec": {
   "display_name": "Python [conda env:opensim]",
   "language": "python",
   "name": "conda-env-opensim-py"
  },
  "language_info": {
   "codemirror_mode": {
    "name": "ipython",
    "version": 3
   },
   "file_extension": ".py",
   "mimetype": "text/x-python",
   "name": "python",
   "nbconvert_exporter": "python",
   "pygments_lexer": "ipython3",
   "version": "3.6.3"
  }
 },
 "nbformat": 4,
 "nbformat_minor": 2
}
