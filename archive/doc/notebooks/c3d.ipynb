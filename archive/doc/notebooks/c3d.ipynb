{
 "cells": [
  {
   "cell_type": "code",
   "execution_count": 1,
   "metadata": {},
   "outputs": [],
   "source": [
    "import btk\n",
    "import os"
   ]
  },
  {
   "cell_type": "code",
   "execution_count": 2,
   "metadata": {},
   "outputs": [],
   "source": [
    "path2c3d = os.path.abspath('./examples_files/DavOH6H1_1.c3d')"
   ]
  },
  {
   "cell_type": "markdown",
   "metadata": {},
   "source": [
    "### Read an acquisition"
   ]
  },
  {
   "cell_type": "code",
   "execution_count": 3,
   "metadata": {},
   "outputs": [],
   "source": [
    "reader = btk.btkAcquisitionFileReader()\n",
    "reader.SetFilename(path2c3d)\n",
    "reader.Update()\n",
    "acq = reader.GetOutput()"
   ]
  },
  {
   "cell_type": "code",
   "execution_count": 4,
   "metadata": {},
   "outputs": [
    {
     "data": {
      "text/plain": [
       "btk.btkAcquisition"
      ]
     },
     "execution_count": 4,
     "metadata": {},
     "output_type": "execute_result"
    }
   ],
   "source": [
    "type(acq)"
   ]
  },
  {
   "cell_type": "markdown",
   "metadata": {},
   "source": [
    "### Explore and acquisition"
   ]
  },
  {
   "cell_type": "code",
   "execution_count": 4,
   "metadata": {},
   "outputs": [
    {
     "data": {
      "text/plain": [
       "{'analog_rate': 2000.0,\n",
       " 'analog_used': 38,\n",
       " 'first_frame': 1,\n",
       " 'last_frame': 594,\n",
       " 'point_rate': 100.0,\n",
       " 'point_used': 51}"
      ]
     },
     "execution_count": 4,
     "metadata": {},
     "output_type": "execute_result"
    }
   ],
   "source": [
    "# metadata\n",
    "kind = ['markers', 'emg']\n",
    "metadata = {\n",
    "    'first_frame': acq.GetFirstFrame(),\n",
    "    'last_frame': acq.GetLastFrame(),\n",
    "}\n",
    "\n",
    "if 'markers' in kind:\n",
    "    metadata.update({\n",
    "        'point_rate': acq.GetPointFrequency(),\n",
    "        'point_used': acq.GetPointNumber()\n",
    "    })\n",
    "if 'force' in kind or 'emg' in kind:\n",
    "    metadata.update({\n",
    "        'analog_rate': acq.GetAnalogFrequency(),\n",
    "        'analog_used': acq.GetAnalogNumber()\n",
    "    })\n",
    "metadata"
   ]
  },
  {
   "cell_type": "code",
   "execution_count": 66,
   "metadata": {},
   "outputs": [],
   "source": [
    "labels = []\n",
    "data = []"
   ]
  },
  {
   "cell_type": "code",
   "execution_count": 58,
   "metadata": {},
   "outputs": [
    {
     "name": "stdout",
     "output_type": "stream",
     "text": [
      "1.39 ms ± 4.84 µs per loop (mean ± std. dev. of 7 runs, 1000 loops each)\n"
     ]
    }
   ],
   "source": [
    "%%timeit\n",
    "# analogs data\n",
    "labels = []\n",
    "data = []\n",
    "for i in range(metadata['analog_used']):\n",
    "    xi = acq.GetAnalog(i)\n",
    "    data_temp = xi.GetValues()\n",
    "    if data_temp.any():\n",
    "        labels.append(xi.GetLabel())\n",
    "        data.append(data_temp)"
   ]
  },
  {
   "cell_type": "code",
   "execution_count": 61,
   "metadata": {},
   "outputs": [
    {
     "name": "stdout",
     "output_type": "stream",
     "text": [
      "1.51 ms ± 27.9 µs per loop (mean ± std. dev. of 7 runs, 1000 loops each)\n"
     ]
    }
   ],
   "source": [
    "# analogs data\n",
    "labels = []\n",
    "data = []\n",
    "for it in btk.Iterate(acq.GetAnalogs()):\n",
    "    data_temp = it.GetValues()\n",
    "    if data_temp.any():\n",
    "        labels.append(it.GetLabel())\n",
    "        data.append(data_temp)"
   ]
  },
  {
   "cell_type": "code",
   "execution_count": 68,
   "metadata": {},
   "outputs": [
    {
     "name": "stdout",
     "output_type": "stream",
     "text": [
      "1.52 ms ± 10.3 µs per loop (mean ± std. dev. of 7 runs, 1000 loops each)\n"
     ]
    }
   ],
   "source": [
    "%%timeit\n",
    "# analogs data\n",
    "analogs = {}\n",
    "for it in btk.Iterate(acq.GetAnalogs()):\n",
    "    data_temp = it.GetValues()\n",
    "    if data_temp.any():\n",
    "        analogs.update({it.GetLabel(): data_temp})"
   ]
  },
  {
   "cell_type": "code",
   "execution_count": 76,
   "metadata": {},
   "outputs": [],
   "source": [
    "def _iterate(acq, kind='markers'):\n",
    "    out = {}\n",
    "    if kind == 'markers':\n",
    "        iterator = btk.Iterate(acq.GetPoints())\n",
    "    if kind == 'analogs':\n",
    "        iterator = btk.Iterate(acq.GetAnalogs())\n",
    "    for it in iterator:\n",
    "        data_temp = it.GetValues()\n",
    "        if data_temp.any():\n",
    "            out.update({it.GetLabel(): data_temp})\n",
    "    return out"
   ]
  },
  {
   "cell_type": "code",
   "execution_count": 78,
   "metadata": {},
   "outputs": [
    {
     "name": "stdout",
     "output_type": "stream",
     "text": [
      "1.52 ms ± 9.65 µs per loop (mean ± std. dev. of 7 runs, 1000 loops each)\n"
     ]
    }
   ],
   "source": [
    "%%timeit\n",
    "analogs = _iterate(acq, kind='analogs')"
   ]
  },
  {
   "cell_type": "code",
   "execution_count": 72,
   "metadata": {},
   "outputs": [],
   "source": [
    "# analogs data\n",
    "points = {}\n",
    "for it in btk.Iterate(acq.GetPoints()):\n",
    "    data_temp = it.GetValues()\n",
    "    if data_temp.any():\n",
    "        points.update({it.GetLabel(): data_temp})"
   ]
  },
  {
   "cell_type": "code",
   "execution_count": 63,
   "metadata": {},
   "outputs": [
    {
     "name": "stdout",
     "output_type": "stream",
     "text": [
      "1.83 ms ± 16.8 µs per loop (mean ± std. dev. of 7 runs, 100 loops each)\n"
     ]
    }
   ],
   "source": [
    "%%timeit\n",
    "labels,data = zip(*[(it.GetLabel(), it.GetValues()) for it in btk.Iterate(acq.GetAnalogs()) if it.GetValues().any()])"
   ]
  }
 ],
 "metadata": {
  "kernelspec": {
   "display_name": "Python [conda root]",
   "language": "python",
   "name": "conda-root-py"
  },
  "language_info": {
   "codemirror_mode": {
    "name": "ipython",
    "version": 3
   },
   "file_extension": ".py",
   "mimetype": "text/x-python",
   "name": "python",
   "nbconvert_exporter": "python",
   "pygments_lexer": "ipython3",
   "version": "3.6.2"
  }
 },
 "nbformat": 4,
 "nbformat_minor": 2
}
